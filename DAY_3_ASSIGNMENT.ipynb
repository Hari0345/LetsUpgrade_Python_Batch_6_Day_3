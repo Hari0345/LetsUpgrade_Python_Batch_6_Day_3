{
 "cells": [
  {
   "cell_type": "markdown",
   "metadata": {},
   "source": [
    "# Day_3_Assignment"
   ]
  },
  {
   "cell_type": "code",
   "execution_count": null,
   "metadata": {},
   "outputs": [],
   "source": []
  },
  {
   "cell_type": "code",
   "execution_count": 5,
   "metadata": {},
   "outputs": [
    {
     "name": "stdout",
     "output_type": "stream",
     "text": [
      "Enter the Number:10\n",
      "The sum of N numbers is: 55\n"
     ]
    }
   ],
   "source": [
    "N=int(input(\"Enter the Number:\"))\n",
    "sum=0\n",
    "i=1\n",
    "while i<=N:\n",
    "    sum+=i\n",
    "    i+=1\n",
    "print(\"The sum of N numbers is:\",sum)    "
   ]
  },
  {
   "cell_type": "code",
   "execution_count": null,
   "metadata": {},
   "outputs": [],
   "source": []
  },
  {
   "cell_type": "code",
   "execution_count": 9,
   "metadata": {},
   "outputs": [
    {
     "name": "stdout",
     "output_type": "stream",
     "text": [
      "Enter the Number:7\n",
      "7 is a prime number\n"
     ]
    }
   ],
   "source": [
    "N=int(input(\"Enter the Number:\"))\n",
    " \n",
    " \n",
    "if N > 1: \n",
    "      \n",
    "   for i in range(2,N):  \n",
    "       if (N % i) == 0: \n",
    "           print(N, \"is not a prime number\") \n",
    "           break\n",
    "   else: \n",
    "       print(N, \"is a prime number\") \n",
    "  \n",
    "else: \n",
    "   print(N, \"is not a prime number\") "
   ]
  },
  {
   "cell_type": "code",
   "execution_count": null,
   "metadata": {},
   "outputs": [],
   "source": []
  }
 ],
 "metadata": {
  "kernelspec": {
   "display_name": "Python 3",
   "language": "python",
   "name": "python3"
  },
  "language_info": {
   "codemirror_mode": {
    "name": "ipython",
    "version": 3
   },
   "file_extension": ".py",
   "mimetype": "text/x-python",
   "name": "python",
   "nbconvert_exporter": "python",
   "pygments_lexer": "ipython3",
   "version": "3.7.3"
  }
 },
 "nbformat": 4,
 "nbformat_minor": 2
}
